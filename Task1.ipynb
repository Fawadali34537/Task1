{
 "cells": [
  {
   "cell_type": "markdown",
   "metadata": {},
   "source": [
    "**Credit Scoring Model**"
   ]
  },
  {
   "cell_type": "code",
   "execution_count": 122,
   "metadata": {},
   "outputs": [
    {
     "name": "stdout",
     "output_type": "stream",
     "text": [
      "Synthetic dataset created and saved as 'credit_data.csv'.\n"
     ]
    }
   ],
   "source": [
    "import pandas as pd\n",
    "import numpy as np\n",
    "\n",
    "# Set random seed for reproducibility\n",
    "np.random.seed(42)\n",
    "\n",
    "# Generate sample data\n",
    "n_samples = 1000\n",
    "data = pd.DataFrame({\n",
    "    'Age': np.random.randint(18, 70, size=n_samples),\n",
    "    'Income': np.random.randint(30000, 120000, size=n_samples),\n",
    "    'Loan_Amount': np.random.randint(5000, 50000, size=n_samples),\n",
    "    'Credit_Score': np.random.randint(600, 800, size=n_samples),\n",
    "    'Employment_Status': np.random.choice(['Employed', 'Unemployed', 'Self-Employed'], size=n_samples),\n",
    "    'Marital_Status': np.random.choice(['Single', 'Married', 'Divorced'], size=n_samples),\n",
    "    'Number_of_Dependents': np.random.randint(0, 5, size=n_samples),\n",
    "    'Creditworthy': np.random.randint(0, 2, size=n_samples)  # 0 or 1\n",
    "})\n",
    "\n",
    "# Save to CSV\n",
    "data.to_csv('credit_data.csv', index=False)\n",
    "\n",
    "print(\"Synthetic dataset created and saved as 'credit_data.csv'.\")\n",
    "\n"
   ]
  },
  {
   "cell_type": "code",
   "execution_count": 123,
   "metadata": {},
   "outputs": [],
   "source": [
    "import pandas as pd\n",
    "import numpy as np\n",
    "from sklearn.model_selection import train_test_split\n",
    "from sklearn.preprocessing import StandardScaler, OneHotEncoder\n",
    "from sklearn.compose import ColumnTransformer\n",
    "from sklearn.pipeline import Pipeline\n",
    "from sklearn.impute import SimpleImputer\n",
    "from sklearn.ensemble import RandomForestClassifier\n",
    "from sklearn.linear_model import LogisticRegression\n",
    "from sklearn.svm import SVC\n",
    "from sklearn.metrics import confusion_matrix, classification_report, roc_auc_score\n",
    "\n",
    "# Load dataset\n",
    "data = pd.read_csv('credit_data.csv')"
   ]
  },
  {
   "cell_type": "code",
   "execution_count": 124,
   "metadata": {},
   "outputs": [],
   "source": [
    "# Identify features and target\n",
    "features = ['Age', 'Income', 'Loan_Amount', 'Credit_Score', 'Employment_Status', 'Marital_Status', 'Number_of_Dependents']\n",
    "target = 'Creditworthy'\n",
    "\n",
    "# Preprocessing\n",
    "# Handle missing values and encode categorical features\n",
    "categorical_features = ['Employment_Status', 'Marital_Status']\n",
    "numerical_features = ['Age', 'Income', 'Loan_Amount', 'Credit_Score']\n",
    "\n",
    "# Define preprocessing for numerical and categorical data\n",
    "numerical_transformer = Pipeline(steps=[\n",
    "    ('imputer', SimpleImputer(strategy='median')),\n",
    "    ('scaler', StandardScaler())\n",
    "])\n",
    "\n",
    "categorical_transformer = Pipeline(steps=[\n",
    "    ('imputer', SimpleImputer(strategy='most_frequent')),\n",
    "    ('onehot', OneHotEncoder(handle_unknown='ignore'))\n",
    "])\n",
    "\n",
    "preprocessor = ColumnTransformer(\n",
    "    transformers=[\n",
    "        ('num', numerical_transformer, numerical_features),\n",
    "        ('cat', categorical_transformer, categorical_features)\n",
    "    ])\n"
   ]
  },
  {
   "cell_type": "code",
   "execution_count": 125,
   "metadata": {},
   "outputs": [],
   "source": [
    "# Split the data into features and target\n",
    "X = data[features]\n",
    "y = data[target]\n",
    "\n",
    "# Split the data into training and testing sets\n",
    "X_train, X_test, y_train, y_test = train_test_split(X, y, test_size=0.2, random_state=42)\n"
   ]
  },
  {
   "cell_type": "code",
   "execution_count": 126,
   "metadata": {},
   "outputs": [
    {
     "name": "stdout",
     "output_type": "stream",
     "text": [
      "Model: Logistic Regression\n",
      "Confusion Matrix:\n",
      "[[22 80]\n",
      " [18 80]]\n",
      "Classification Report:\n",
      "              precision    recall  f1-score   support\n",
      "\n",
      "           0       0.55      0.22      0.31       102\n",
      "           1       0.50      0.82      0.62        98\n",
      "\n",
      "    accuracy                           0.51       200\n",
      "   macro avg       0.53      0.52      0.47       200\n",
      "weighted avg       0.53      0.51      0.46       200\n",
      "\n",
      "ROC AUC Score: 0.4516806722689075\n",
      "\n",
      "Model: SVC\n",
      "Confusion Matrix:\n",
      "[[34 68]\n",
      " [29 69]]\n",
      "Classification Report:\n",
      "              precision    recall  f1-score   support\n",
      "\n",
      "           0       0.54      0.33      0.41       102\n",
      "           1       0.50      0.70      0.59        98\n",
      "\n",
      "    accuracy                           0.52       200\n",
      "   macro avg       0.52      0.52      0.50       200\n",
      "weighted avg       0.52      0.52      0.50       200\n",
      "\n",
      "ROC AUC Score: 0.5419167667066828\n",
      "\n",
      "Model: Random Forest\n",
      "Confusion Matrix:\n",
      "[[45 57]\n",
      " [41 57]]\n",
      "Classification Report:\n",
      "              precision    recall  f1-score   support\n",
      "\n",
      "           0       0.52      0.44      0.48       102\n",
      "           1       0.50      0.58      0.54        98\n",
      "\n",
      "    accuracy                           0.51       200\n",
      "   macro avg       0.51      0.51      0.51       200\n",
      "weighted avg       0.51      0.51      0.51       200\n",
      "\n",
      "ROC AUC Score: 0.4943977591036414\n",
      "\n",
      "Voting Classifier\n",
      "Confusion Matrix:\n",
      "[[29 73]\n",
      " [27 71]]\n",
      "Classification Report:\n",
      "              precision    recall  f1-score   support\n",
      "\n",
      "           0       0.52      0.28      0.37       102\n",
      "           1       0.49      0.72      0.59        98\n",
      "\n",
      "    accuracy                           0.50       200\n",
      "   macro avg       0.51      0.50      0.48       200\n",
      "weighted avg       0.51      0.50      0.47       200\n",
      "\n",
      "ROC AUC Score: 0.489295718287315\n",
      "\n"
     ]
    }
   ],
   "source": [
    "# Define models\n",
    "models = {\n",
    "    'Logistic Regression': LogisticRegression(),\n",
    "    'SVC': SVC(probability=True),\n",
    "    'Random Forest': RandomForestClassifier()\n",
    "}\n",
    "\n",
    "# Train and evaluate models\n",
    "for name, model in models.items():\n",
    "    # Create a pipeline that combines preprocessing and model\n",
    "    clf = Pipeline(steps=[('preprocessor', preprocessor),\n",
    "                          ('classifier', model)])\n",
    "    \n",
    "    clf.fit(X_train, y_train)\n",
    "    y_pred = clf.predict(X_test)\n",
    "    \n",
    "    print(f\"Model: {name}\")\n",
    "    print(f\"Confusion Matrix:\\n{confusion_matrix(y_test, y_pred)}\")\n",
    "    print(f\"Classification Report:\\n{classification_report(y_test, y_pred)}\")\n",
    "    print(f\"ROC AUC Score: {roc_auc_score(y_test, clf.predict_proba(X_test)[:, 1])}\\n\")\n",
    "\n",
    "# Voting Classifier\n",
    "from sklearn.ensemble import VotingClassifier\n",
    "\n",
    "voting_clf = VotingClassifier(estimators=[\n",
    "    ('lr', LogisticRegression()),\n",
    "    ('svc', SVC(probability=True)),\n",
    "    ('rf', RandomForestClassifier())\n",
    "], voting='soft')\n",
    "\n",
    "voting_clf_pipeline = Pipeline(steps=[('preprocessor', preprocessor),\n",
    "                                     ('classifier', voting_clf)])\n",
    "\n",
    "voting_clf_pipeline.fit(X_train, y_train)\n",
    "y_pred = voting_clf_pipeline.predict(X_test)\n",
    "\n",
    "print(f\"Voting Classifier\")\n",
    "print(f\"Confusion Matrix:\\n{confusion_matrix(y_test, y_pred)}\")\n",
    "print(f\"Classification Report:\\n{classification_report(y_test, y_pred)}\")\n",
    "print(f\"ROC AUC Score: {roc_auc_score(y_test, voting_clf_pipeline.predict_proba(X_test)[:, 1])}\\n\")"
   ]
  },
  {
   "cell_type": "code",
   "execution_count": 127,
   "metadata": {},
   "outputs": [
    {
     "data": {
      "image/png": "[encoded data removed]",
      "text/plain": [
       "<Figure size 800x600 with 2 Axes>"
      ]
     },
     "metadata": {},
     "output_type": "display_data"
    }
   ],
   "source": [
    "from sklearn.metrics import confusion_matrix, classification_report, roc_auc_score\n",
    "# Plot confusion matrix heatmap\n",
    "conf_matrix = confusion_matrix(y_test, y_pred)\n",
    "\n",
    "plt.figure(figsize=(8, 6))\n",
    "sns.heatmap(conf_matrix, annot=True, fmt='d', cmap='Blues', \n",
    "            xticklabels=['Not Creditworthy', 'Creditworthy'], \n",
    "            yticklabels=['Not Creditworthy', 'Creditworthy'])\n",
    "plt.xlabel('Predicted')\n",
    "plt.ylabel('Actual')\n",
    "plt.title('Confusion Matrix Heatmap')\n",
    "plt.show()"
   ]
  }
 ],
 "metadata": {
  "kernelspec": {
   "display_name": "Python 3",
   "language": "python",
   "name": "python3"
  },
  "language_info": {
   "codemirror_mode": {
    "name": "ipython",
    "version": 3
   },
   "file_extension": ".py",
   "mimetype": "text/x-python",
   "name": "python",
   "nbconvert_exporter": "python",
   "pygments_lexer": "ipython3",
   "version": "3.11.8"
  }
 },
 "nbformat": 4,
 "nbformat_minor": 2
}
